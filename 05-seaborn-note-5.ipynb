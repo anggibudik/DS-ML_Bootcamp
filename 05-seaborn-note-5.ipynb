{
 "cells": [
  {
   "cell_type": "markdown",
   "metadata": {},
   "source": [
    "# Seaborn Lecture Note $-$ Part 5\n",
    "___\n",
    "\n",
    "See [seaborn homepage](https://seaborn.pydata.org/introduction.html) for more detailed information and [documentation](https://seaborn.pydata.org/api.html), or visit their [Github page here](https://github.com/mwaskom/seaborn).\n",
    "<br><br>\n",
    "Tutorial page for seaborn:\n",
    "https://seaborn.pydata.org/tutorial.html\n",
    "___\n",
    "\n",
    "This part covers **Regression Plots** in Seaborn.\n",
    "___"
   ]
  },
  {
   "cell_type": "code",
   "execution_count": null,
   "metadata": {},
   "outputs": [],
   "source": [
    "import seaborn as sns\n",
    "%matplotlib inline"
   ]
  },
  {
   "cell_type": "markdown",
   "metadata": {},
   "source": [
    "## *Part 5 Finished!*\n",
    "\n",
    "Continue to >> [note part 6: Style and Color](./05-seaborn-note-6.ipynb)"
   ]
  }
 ],
 "metadata": {
  "kernelspec": {
   "display_name": "data-science",
   "language": "python",
   "name": "data-science"
  },
  "language_info": {
   "codemirror_mode": {
    "name": "ipython",
    "version": 3
   },
   "file_extension": ".py",
   "mimetype": "text/x-python",
   "name": "python",
   "nbconvert_exporter": "python",
   "pygments_lexer": "ipython3",
   "version": "3.7.9"
  }
 },
 "nbformat": 4,
 "nbformat_minor": 4
}
