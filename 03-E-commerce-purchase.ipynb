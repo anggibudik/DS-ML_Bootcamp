{
 "cells": [
  {
   "cell_type": "markdown",
   "metadata": {},
   "source": [
    "___\n",
    "# **E-commerce Purchase Exercise**\n",
    "\n",
    "by: [Anggi BK](https://github.com/anggibudik/)\n",
    "\n",
    "Part of exercise (pandas section) for **Python for Data Science and Machine Learning** Bootcamp by Jose Portilla on Udemy.\n",
    "\n",
    "The dataset used in this exercise is only a made-up data and doesn't have anything to do with real-life Amazon purchasing data!\n",
    "___"
   ]
  },
  {
   "cell_type": "code",
   "execution_count": 1,
   "metadata": {},
   "outputs": [],
   "source": [
    "import pandas as pd"
   ]
  },
  {
   "cell_type": "code",
   "execution_count": null,
   "metadata": {},
   "outputs": [],
   "source": []
  }
 ],
 "metadata": {
  "kernelspec": {
   "display_name": "data-science",
   "language": "python",
   "name": "data-science"
  },
  "language_info": {
   "codemirror_mode": {
    "name": "ipython",
    "version": 3
   },
   "file_extension": ".py",
   "mimetype": "text/x-python",
   "name": "python",
   "nbconvert_exporter": "python",
   "pygments_lexer": "ipython3",
   "version": "3.7.9"
  }
 },
 "nbformat": 4,
 "nbformat_minor": 4
}
